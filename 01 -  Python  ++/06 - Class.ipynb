{
 "cells": [
  {
   "cell_type": "code",
   "execution_count": 1,
   "metadata": {},
   "outputs": [
    {
     "name": "stdout",
     "output_type": "stream",
     "text": [
      "Alec\n",
      "it return what you want\n",
      "56\n"
     ]
    }
   ],
   "source": [
    "class Person:\n",
    "    def __init__(a,name, surname, yob):\n",
    "        a.name = name\n",
    "        a.surname  = surname\n",
    "        a.yob = yob\n",
    "    def age(a, current_year):\n",
    "        return current_year - a.yob\n",
    "    def __str__(a):#inbult funation \n",
    "        #trying to return a objcet yes i am overriding object as a string \n",
    "        return \"it return what you want\"\n",
    "\n",
    "    \n",
    "alec = Person(\"Alec\", \"Baldwin\", 1958)\n",
    "print(alec.name)\n",
    "print(alec)\n",
    "print(alec.age(2014))"
   ]
  },
  {
   "cell_type": "markdown",
   "metadata": {},
   "source": [
    "***Abstraction : ----accessing the variable in methoda form one class to anoher ***\n",
    "    \n",
    "\n",
    "public- access anywhere any thing \n",
    "private- able to access inside / but not accessed  outside the class and package \n",
    "protected- i able to access inside the class outusiede tha class but not outside the package \n",
    "\n",
    "**basically it is exist or not exist***"
   ]
  },
  {
   "cell_type": "code",
   "execution_count": 24,
   "metadata": {
    "scrolled": true
   },
   "outputs": [
    {
     "name": "stdout",
     "output_type": "stream",
     "text": [
      "Alec\n",
      "Alec Baldwin was born in 1958\n",
      "56\n"
     ]
    },
    {
     "data": {
      "text/plain": [
       "{'_name': 'Alec', '_surname': 'Baldwin', '_yob': 1958}"
      ]
     },
     "execution_count": 24,
     "metadata": {},
     "output_type": "execute_result"
    }
   ],
   "source": [
    "class Person:\n",
    "    def __init__(a,name, surname, yob):#inbuilt funation \n",
    "        a._name = name\n",
    "        a._surname  = surname\n",
    "        a._yob = yob\n",
    "#         single _(notation) meas protected variable\n",
    "\n",
    "    def age(a, current_year):\n",
    "        return current_year - a._yob\n",
    "    def __str__(a):\n",
    "        #inbult function \n",
    "        #trying to return a objcet yes i am overriding object as a string \n",
    "        return \"%s %s was born in %d\" %(a._name, a._surname, a._yob)\n",
    "\n",
    "    \n",
    "alec = Person(\"Alec\", \"Baldwin\", 1958)\n",
    "print(alec._name)\n",
    "print(alec)\n",
    "print(alec.age(2014))\n",
    "alec.__dict__"
   ]
  },
  {
   "cell_type": "code",
   "execution_count": 19,
   "metadata": {},
   "outputs": [
    {
     "ename": "AttributeError",
     "evalue": "'Person' object has no attribute '__name'",
     "output_type": "error",
     "traceback": [
      "\u001b[1;31m---------------------------------------------------------------------------\u001b[0m",
      "\u001b[1;31mAttributeError\u001b[0m                            Traceback (most recent call last)",
      "\u001b[1;32m<ipython-input-19-518d5bfa4796>\u001b[0m in \u001b[0;36m<module>\u001b[1;34m\u001b[0m\n\u001b[0;32m     15\u001b[0m \u001b[1;33m\u001b[0m\u001b[0m\n\u001b[0;32m     16\u001b[0m \u001b[0malec\u001b[0m \u001b[1;33m=\u001b[0m\u001b[0mPerson\u001b[0m\u001b[1;33m(\u001b[0m\u001b[1;34m\"Alec\"\u001b[0m\u001b[1;33m,\u001b[0m \u001b[1;34m\"Baldwin\"\u001b[0m\u001b[1;33m,\u001b[0m \u001b[1;36m1958\u001b[0m\u001b[1;33m)\u001b[0m\u001b[1;33m\u001b[0m\u001b[0m\n\u001b[1;32m---> 17\u001b[1;33m \u001b[0mprint\u001b[0m\u001b[1;33m(\u001b[0m\u001b[0malec\u001b[0m\u001b[1;33m.\u001b[0m\u001b[0m__name\u001b[0m\u001b[1;33m)\u001b[0m\u001b[1;33m\u001b[0m\u001b[0m\n\u001b[0m",
      "\u001b[1;31mAttributeError\u001b[0m: 'Person' object has no attribute '__name'"
     ]
    }
   ],
   "source": [
    "class Person:\n",
    "    def __init__(self,name, surname, yob):#inbuilt funation \n",
    "        self.__name = name\n",
    "        self.__surname  = surname\n",
    "        self.__yob = yob\n",
    "#         double __(notation) meas private variable\n",
    "\n",
    "    def age(a, current_year):\n",
    "        return current_year - self.__yob\n",
    "    def __str__(a):\n",
    "        #inbult function \n",
    "        #trying to return a objcet yes i am overriding object as a string \n",
    "        return \"%s %s was born in %d\" %(self.__name, self.__surname, self.__yob)\n",
    "\n",
    "    \n",
    "alec =Person(\"Alec\", \"Baldwin\", 1958)\n",
    "print(alec.__name)\n"
   ]
  },
  {
   "cell_type": "code",
   "execution_count": 29,
   "metadata": {},
   "outputs": [
    {
     "data": {
      "text/plain": [
       "{'_Person__name': 'Alec', '_Person__surname': 'Baldwin', '_Person__yob': 1958}"
      ]
     },
     "execution_count": 29,
     "metadata": {},
     "output_type": "execute_result"
    }
   ],
   "source": [
    "class Person:\n",
    "    def __init__(self,name, surname, yob):#inbuilt funation \n",
    "        self.__name = name\n",
    "        self.__surname  = surname\n",
    "        self.__yob = yob\n",
    "#         double __ (notation) meas private variable\n",
    "\n",
    "    def age(a, current_year):\n",
    "        return current_year - self.__yob\n",
    "    def __str__(a):\n",
    "        #inbult function \n",
    "        #trying to return a objcet yes i am overriding object as a string \n",
    "        return \"%s %s was born in %d\" %(self.__name, self.__surname, self.__yob)\n",
    "\n",
    "    \n",
    "alec =Person(\"Alec\", \"Baldwin\", 1958)\n",
    "\n",
    "alec.__class__\n",
    "\n",
    "alec.__dict__  #inbuilt function --> understand internal structire \n"
   ]
  },
  {
   "cell_type": "code",
   "execution_count": 28,
   "metadata": {},
   "outputs": [
    {
     "data": {
      "text/plain": [
       "'Alec'"
      ]
     },
     "execution_count": 28,
     "metadata": {},
     "output_type": "execute_result"
    }
   ],
   "source": [
    "#alec.__name \n",
    "alec._Person__name"
   ]
  },
  {
   "cell_type": "code",
   "execution_count": 32,
   "metadata": {},
   "outputs": [
    {
     "data": {
      "text/plain": [
       "dict_keys(['name', '_surname', '_Person__yob'])"
      ]
     },
     "execution_count": 32,
     "metadata": {},
     "output_type": "execute_result"
    }
   ],
   "source": [
    "class Person:\n",
    "    def __init__(self,name, surname, yob):#inbuilt funation \n",
    "        self.name = name\n",
    "        self._surname  = surname\n",
    "        self.__yob = yob\n",
    "#         double __ (notation) meas private variable\n",
    "\n",
    "    def age(a, current_year):\n",
    "        return current_year - self.__yob\n",
    "    def __str__(a):\n",
    "        #inbult function \n",
    "        #trying to return a objcet yes i am overriding object as a string \n",
    "        return \"%s %s was born in %d\" %(self.name, self._surname, self.__yob)\n",
    "\n",
    "    \n",
    "alec =Person(\"Alec\", \"Baldwin\", 1958)\n",
    "\n",
    "alec.__class__\n",
    "\n",
    "alec.__dict__.keys()  #inbuilt function --> understand internal structire \n"
   ]
  },
  {
   "cell_type": "code",
   "execution_count": 37,
   "metadata": {},
   "outputs": [],
   "source": [
    "class xyz:\n",
    "    def __init__(self,a,b,c):\n",
    "        self.a = a\n",
    "        self.b = b\n",
    "        self.c = c\n",
    "    def test(self):\n",
    "        return \"this is a public methode\"\n",
    "    def _test1(self):\n",
    "        print(\"this is  aprotected methode\")\n",
    "    def __test1(self):\n",
    "        print(\"this is privalte methode\")"
   ]
  },
  {
   "cell_type": "code",
   "execution_count": 38,
   "metadata": {},
   "outputs": [
    {
     "data": {
      "text/plain": [
       "'this is a public methode'"
      ]
     },
     "execution_count": 38,
     "metadata": {},
     "output_type": "execute_result"
    }
   ],
   "source": [
    "obj = xyz(3,4,5)\n",
    "obj.test()\n"
   ]
  },
  {
   "cell_type": "code",
   "execution_count": 39,
   "metadata": {},
   "outputs": [
    {
     "name": "stdout",
     "output_type": "stream",
     "text": [
      "this is  aprotected methode\n"
     ]
    }
   ],
   "source": [
    "obj._test1()"
   ]
  },
  {
   "cell_type": "code",
   "execution_count": 45,
   "metadata": {},
   "outputs": [
    {
     "name": "stdout",
     "output_type": "stream",
     "text": [
      "this is privalte methode\n"
     ]
    }
   ],
   "source": [
    "# obj.__test1()\n",
    "obj._xyz__test1()"
   ]
  },
  {
   "cell_type": "markdown",
   "metadata": {},
   "source": [
    "# Inheritence "
   ]
  },
  {
   "cell_type": "code",
   "execution_count": 46,
   "metadata": {},
   "outputs": [
    {
     "data": {
      "text/plain": [
       "'this is a public methode'"
      ]
     },
     "execution_count": 46,
     "metadata": {},
     "output_type": "execute_result"
    }
   ],
   "source": [
    "class xyz:\n",
    "    def __init__(self,a,b,c):\n",
    "        self.a = a\n",
    "        self.b = b\n",
    "        self.c = c\n",
    "    def test(self):\n",
    "        return \"this is a public methode\"\n",
    "obj = xyz(2,4,5)\n",
    "obj.test()"
   ]
  },
  {
   "cell_type": "code",
   "execution_count": 47,
   "metadata": {},
   "outputs": [],
   "source": [
    "# inherirt ptoperty of  xyz in abc\n",
    "class abc(xyz):\n",
    "    pass"
   ]
  },
  {
   "cell_type": "code",
   "execution_count": 48,
   "metadata": {},
   "outputs": [
    {
     "ename": "TypeError",
     "evalue": "__init__() missing 3 required positional arguments: 'a', 'b', and 'c'",
     "output_type": "error",
     "traceback": [
      "\u001b[1;31m---------------------------------------------------------------------------\u001b[0m",
      "\u001b[1;31mTypeError\u001b[0m                                 Traceback (most recent call last)",
      "\u001b[1;32m<ipython-input-48-3eb41751d157>\u001b[0m in \u001b[0;36m<module>\u001b[1;34m\u001b[0m\n\u001b[1;32m----> 1\u001b[1;33m \u001b[0mobj1\u001b[0m \u001b[1;33m=\u001b[0m \u001b[0mabc\u001b[0m\u001b[1;33m(\u001b[0m\u001b[1;33m)\u001b[0m\u001b[1;33m\u001b[0m\u001b[0m\n\u001b[0m",
      "\u001b[1;31mTypeError\u001b[0m: __init__() missing 3 required positional arguments: 'a', 'b', and 'c'"
     ]
    }
   ],
   "source": [
    "obj1 = abc()"
   ]
  },
  {
   "cell_type": "code",
   "execution_count": 54,
   "metadata": {},
   "outputs": [
    {
     "name": "stdout",
     "output_type": "stream",
     "text": [
      "this is a public methode\n",
      "6\n",
      "8\n"
     ]
    }
   ],
   "source": [
    "obj1 = abc(6,7,8)\n",
    "print(obj1.test())\n",
    "print(obj1.a)\n",
    "print(obj1.c)"
   ]
  },
  {
   "cell_type": "code",
   "execution_count": 60,
   "metadata": {},
   "outputs": [],
   "source": [
    "# override the property of xyz class \n",
    "class xyz:\n",
    "    def __init__(self,a,b,c=5):\n",
    "        self.a = a\n",
    "        self.b = b\n",
    "        self.c = c\n",
    "    def test(self):\n",
    "        return \"this is a public methode\"\n",
    "class abc(xyz):\n",
    "    def __init__(self,a,b):\n",
    "        xyz.__init__(self,a,b)\n",
    "class defgh(xyz):\n",
    "    def __init__(self,a,b,d,n):\n",
    "        xyz.__init__(self,a,b)\n",
    "        self.d = d\n",
    "        self.n = n"
   ]
  },
  {
   "cell_type": "code",
   "execution_count": 64,
   "metadata": {},
   "outputs": [
    {
     "name": "stdout",
     "output_type": "stream",
     "text": [
      "1\n",
      "2\n"
     ]
    }
   ],
   "source": [
    "obj2 = abc(1,2)\n",
    "print(obj2.a)\n",
    "print(obj2.b)"
   ]
  },
  {
   "cell_type": "code",
   "execution_count": 67,
   "metadata": {},
   "outputs": [
    {
     "name": "stdout",
     "output_type": "stream",
     "text": [
      "abhi\n",
      "pandey\n",
      "2\n"
     ]
    }
   ],
   "source": [
    "obj3 = defgh(\"abhi\", \"pandey\",1,2)\n",
    "print(obj3.a)\n",
    "print(obj3.b)\n",
    "print(obj3.n)\n"
   ]
  },
  {
   "cell_type": "code",
   "execution_count": 76,
   "metadata": {},
   "outputs": [],
   "source": [
    "class abc(xyz):\n",
    "    def __init__ (sefl, a,b):\n",
    "        super().__init__(a,b)"
   ]
  },
  {
   "cell_type": "code",
   "execution_count": 77,
   "metadata": {},
   "outputs": [],
   "source": [
    "obj2 = abc(6,7) "
   ]
  },
  {
   "cell_type": "code",
   "execution_count": 78,
   "metadata": {},
   "outputs": [
    {
     "data": {
      "text/plain": [
       "True"
      ]
     },
     "execution_count": 78,
     "metadata": {},
     "output_type": "execute_result"
    }
   ],
   "source": [
    "isinstance(obj2,abc)"
   ]
  },
  {
   "cell_type": "code",
   "execution_count": 79,
   "metadata": {},
   "outputs": [
    {
     "data": {
      "text/plain": [
       "True"
      ]
     },
     "execution_count": 79,
     "metadata": {},
     "output_type": "execute_result"
    }
   ],
   "source": [
    "isinstance(obj2,xyz)  #its able to acccess from abc and xyz both "
   ]
  },
  {
   "cell_type": "code",
   "execution_count": null,
   "metadata": {},
   "outputs": [],
   "source": []
  },
  {
   "cell_type": "code",
   "execution_count": null,
   "metadata": {},
   "outputs": [],
   "source": [
    "class Student(Person):\n",
    "    def __init__(self, student_id, *args):  #*args ---> call each and every aeguments \n",
    "        super(Student, self).__init_(*args)\n",
    "        self._student_id = student_id\n",
    "charlie  = Student(1, 'charlie', 'Brown', 2006)\n",
    "print(charlie._student_id)\n",
    "print(type(charlie))\n",
    "print(isinstace(charlie, Person))\n",
    "print(isinstance(charlie, object))"
   ]
  },
  {
   "cell_type": "code",
   "execution_count": null,
   "metadata": {},
   "outputs": [],
   "source": []
  },
  {
   "cell_type": "code",
   "execution_count": null,
   "metadata": {},
   "outputs": [],
   "source": []
  },
  {
   "cell_type": "code",
   "execution_count": 80,
   "metadata": {},
   "outputs": [],
   "source": [
    "class a:\n",
    "    def test(self):\n",
    "        \n",
    "        print(\"its a class A\")\n",
    "class b:\n",
    "    def test(self):\n",
    "        print(\"its a class b\")"
   ]
  },
  {
   "cell_type": "code",
   "execution_count": 85,
   "metadata": {},
   "outputs": [
    {
     "name": "stdout",
     "output_type": "stream",
     "text": [
      "its a class A\n",
      "its a class b\n"
     ]
    }
   ],
   "source": []
  },
  {
   "cell_type": "code",
   "execution_count": 83,
   "metadata": {
    "scrolled": true
   },
   "outputs": [
    {
     "name": "stdout",
     "output_type": "stream",
     "text": [
      "its a class A\n"
     ]
    }
   ],
   "source": [
    "obj1 = c()\n",
    "obj1.test()"
   ]
  },
  {
   "cell_type": "code",
   "execution_count": 84,
   "metadata": {},
   "outputs": [
    {
     "name": "stdout",
     "output_type": "stream",
     "text": [
      "its a class A\n"
     ]
    }
   ],
   "source": [
    "obj1.test()"
   ]
  },
  {
   "cell_type": "code",
   "execution_count": 86,
   "metadata": {},
   "outputs": [
    {
     "name": "stdout",
     "output_type": "stream",
     "text": [
      "its a class A\n",
      "its a class b\n"
     ]
    }
   ],
   "source": [
    "#multiple inheritence \n",
    "class c(a,b):\n",
    "    obja = a()\n",
    "    objb = b()\n",
    "    obja.test()\n",
    "    objb.test()"
   ]
  },
  {
   "cell_type": "code",
   "execution_count": 91,
   "metadata": {},
   "outputs": [],
   "source": [
    "\n",
    "#multilevel inheritence \n",
    "class A:\n",
    "    def test(self):\n",
    "        print(\"class A\")\n",
    "class B(A):\n",
    "    def test1(self):\n",
    "        print(\"class B\")\n",
    "class C(B):\n",
    "    def test3(self):\n",
    "        print(\"class c\")\n"
   ]
  },
  {
   "cell_type": "code",
   "execution_count": 98,
   "metadata": {},
   "outputs": [],
   "source": [
    "objj = C()\n",
    "obj = B()"
   ]
  },
  {
   "cell_type": "code",
   "execution_count": 94,
   "metadata": {},
   "outputs": [
    {
     "name": "stdout",
     "output_type": "stream",
     "text": [
      "class B\n"
     ]
    }
   ],
   "source": [
    "objj.test1()"
   ]
  },
  {
   "cell_type": "code",
   "execution_count": 95,
   "metadata": {},
   "outputs": [
    {
     "name": "stdout",
     "output_type": "stream",
     "text": [
      "class A\n"
     ]
    }
   ],
   "source": [
    "objj.test()"
   ]
  },
  {
   "cell_type": "code",
   "execution_count": 97,
   "metadata": {},
   "outputs": [
    {
     "name": "stdout",
     "output_type": "stream",
     "text": [
      "class c\n"
     ]
    }
   ],
   "source": [
    "objj.test3()"
   ]
  },
  {
   "cell_type": "code",
   "execution_count": 99,
   "metadata": {},
   "outputs": [
    {
     "name": "stdout",
     "output_type": "stream",
     "text": [
      "class A\n"
     ]
    }
   ],
   "source": [
    "obj.test()"
   ]
  },
  {
   "cell_type": "code",
   "execution_count": 100,
   "metadata": {},
   "outputs": [
    {
     "name": "stdout",
     "output_type": "stream",
     "text": [
      "class B\n"
     ]
    }
   ],
   "source": [
    "obj.test1()"
   ]
  },
  {
   "cell_type": "code",
   "execution_count": null,
   "metadata": {},
   "outputs": [],
   "source": []
  },
  {
   "cell_type": "code",
   "execution_count": null,
   "metadata": {},
   "outputs": [],
   "source": []
  },
  {
   "cell_type": "markdown",
   "metadata": {},
   "source": [
    "***Methode Overriording***"
   ]
  },
  {
   "cell_type": "code",
   "execution_count": 102,
   "metadata": {},
   "outputs": [],
   "source": [
    "class A:\n",
    "    def test(self):\n",
    "        print(\"class A\")\n",
    "class B(A):\n",
    "    def test(self):\n",
    "        print(\"class B\")\n",
    "obj = B()\n",
    "    "
   ]
  },
  {
   "cell_type": "code",
   "execution_count": 103,
   "metadata": {},
   "outputs": [
    {
     "name": "stdout",
     "output_type": "stream",
     "text": [
      "class B\n"
     ]
    }
   ],
   "source": [
    "obj.test()"
   ]
  },
  {
   "cell_type": "code",
   "execution_count": null,
   "metadata": {},
   "outputs": [],
   "source": []
  }
 ],
 "metadata": {
  "kernelspec": {
   "display_name": "Python 3",
   "language": "python",
   "name": "python3"
  },
  "language_info": {
   "codemirror_mode": {
    "name": "ipython",
    "version": 3
   },
   "file_extension": ".py",
   "mimetype": "text/x-python",
   "name": "python",
   "nbconvert_exporter": "python",
   "pygments_lexer": "ipython3",
   "version": "3.6.6"
  }
 },
 "nbformat": 4,
 "nbformat_minor": 4
}
