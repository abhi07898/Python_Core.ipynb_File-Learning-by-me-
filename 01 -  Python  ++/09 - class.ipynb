{
 "cells": [
  {
   "cell_type": "code",
   "execution_count": 4,
   "metadata": {},
   "outputs": [
    {
     "name": "stdout",
     "output_type": "stream",
     "text": [
      "1st0\n",
      "2nd1\n"
     ]
    }
   ],
   "source": [
    "try:\n",
    "    a =  int(input(\"1st\"))\n",
    "    b = int(input(\"2nd\"))\n",
    "    c =  a/b\n",
    "except:\n",
    "    print(\"there is an errror my code\")"
   ]
  },
  {
   "cell_type": "code",
   "execution_count": 6,
   "metadata": {},
   "outputs": [
    {
     "name": "stdout",
     "output_type": "stream",
     "text": [
      "1stasdq\n",
      "there is an errror my code invalid literal for int() with base 10: 'asdq'\n"
     ]
    }
   ],
   "source": [
    "try:\n",
    "    a =  int(input(\"1st\"))\n",
    "    b = int(input(\"2nd\"))\n",
    "    c =  a/b\n",
    "except Exception as e:\n",
    "    print(\"there is an errror my code\",e)"
   ]
  },
  {
   "cell_type": "code",
   "execution_count": 8,
   "metadata": {},
   "outputs": [
    {
     "name": "stdout",
     "output_type": "stream",
     "text": [
      "1stas\n",
      "there is an errror my code\n"
     ]
    }
   ],
   "source": [
    "try:\n",
    "    a =  int(input(\"1st\"))\n",
    "    b = int(input(\"2nd\"))\n",
    "    c =  a/b\n",
    "except ValueError:\n",
    "    print(\"there is an errror my code\")"
   ]
  },
  {
   "cell_type": "code",
   "execution_count": 9,
   "metadata": {},
   "outputs": [
    {
     "name": "stdout",
     "output_type": "stream",
     "text": [
      "1stqwe\n"
     ]
    },
    {
     "ename": "ValueError",
     "evalue": "invalid literal for int() with base 10: 'qwe'",
     "output_type": "error",
     "traceback": [
      "\u001b[1;31m---------------------------------------------------------------------------\u001b[0m",
      "\u001b[1;31mValueError\u001b[0m                                Traceback (most recent call last)",
      "\u001b[1;32m<ipython-input-9-f69a5e2da54c>\u001b[0m in \u001b[0;36m<module>\u001b[1;34m\u001b[0m\n\u001b[0;32m      1\u001b[0m \u001b[1;32mtry\u001b[0m\u001b[1;33m:\u001b[0m\u001b[1;33m\u001b[0m\u001b[0m\n\u001b[1;32m----> 2\u001b[1;33m     \u001b[0ma\u001b[0m \u001b[1;33m=\u001b[0m  \u001b[0mint\u001b[0m\u001b[1;33m(\u001b[0m\u001b[0minput\u001b[0m\u001b[1;33m(\u001b[0m\u001b[1;34m\"1st\"\u001b[0m\u001b[1;33m)\u001b[0m\u001b[1;33m)\u001b[0m\u001b[1;33m\u001b[0m\u001b[0m\n\u001b[0m\u001b[0;32m      3\u001b[0m     \u001b[0mb\u001b[0m \u001b[1;33m=\u001b[0m \u001b[0mint\u001b[0m\u001b[1;33m(\u001b[0m\u001b[0minput\u001b[0m\u001b[1;33m(\u001b[0m\u001b[1;34m\"2nd\"\u001b[0m\u001b[1;33m)\u001b[0m\u001b[1;33m)\u001b[0m\u001b[1;33m\u001b[0m\u001b[0m\n\u001b[0;32m      4\u001b[0m     \u001b[0mc\u001b[0m \u001b[1;33m=\u001b[0m  \u001b[0ma\u001b[0m\u001b[1;33m/\u001b[0m\u001b[0mb\u001b[0m\u001b[1;33m\u001b[0m\u001b[0m\n\u001b[0;32m      5\u001b[0m \u001b[1;32mexcept\u001b[0m \u001b[0mIOError\u001b[0m\u001b[1;33m:\u001b[0m\u001b[1;33m\u001b[0m\u001b[0m\n",
      "\u001b[1;31mValueError\u001b[0m: invalid literal for int() with base 10: 'qwe'"
     ]
    }
   ],
   "source": [
    "try:\n",
    "    a =  int(input(\"1st\"))\n",
    "    b = int(input(\"2nd\"))\n",
    "    c =  a/b\n",
    "except IOError:\n",
    "    print(\"there is an errror my code\")"
   ]
  },
  {
   "cell_type": "code",
   "execution_count": 10,
   "metadata": {},
   "outputs": [
    {
     "name": "stdout",
     "output_type": "stream",
     "text": [
      "1stjn\n",
      "there is an errror my code\n"
     ]
    }
   ],
   "source": [
    "try:\n",
    "    a =  int(input(\"1st\"))\n",
    "    b = int(input(\"2nd\"))\n",
    "    c =  a/b\n",
    "except:  #in thi s its call super clas to define exception \n",
    "    print(\"there is an errror my code\")"
   ]
  },
  {
   "cell_type": "code",
   "execution_count": 11,
   "metadata": {},
   "outputs": [
    {
     "name": "stdout",
     "output_type": "stream",
     "text": [
      "1st|wqs\n",
      "this is a blockl for valueerror \n"
     ]
    }
   ],
   "source": [
    "try:\n",
    "    a =  int(input(\"1st\"))\n",
    "    b = int(input(\"2nd\"))\n",
    "    c =  a/b\n",
    "except IOError:\n",
    "    print(\"there is an errror my code\")\n",
    "except ValueError:\n",
    "    print(\"this is a blockl for valueerror \")"
   ]
  },
  {
   "cell_type": "code",
   "execution_count": 12,
   "metadata": {},
   "outputs": [
    {
     "name": "stdout",
     "output_type": "stream",
     "text": [
      "1stasd\n"
     ]
    },
    {
     "ename": "ValueError",
     "evalue": "invalid literal for int() with base 10: 'asd'",
     "output_type": "error",
     "traceback": [
      "\u001b[1;31m---------------------------------------------------------------------------\u001b[0m",
      "\u001b[1;31mValueError\u001b[0m                                Traceback (most recent call last)",
      "\u001b[1;32m<ipython-input-12-dfc70833895e>\u001b[0m in \u001b[0;36m<module>\u001b[1;34m\u001b[0m\n\u001b[0;32m      1\u001b[0m \u001b[1;32mtry\u001b[0m\u001b[1;33m:\u001b[0m\u001b[1;33m\u001b[0m\u001b[0m\n\u001b[1;32m----> 2\u001b[1;33m     \u001b[0ma\u001b[0m \u001b[1;33m=\u001b[0m  \u001b[0mint\u001b[0m\u001b[1;33m(\u001b[0m\u001b[0minput\u001b[0m\u001b[1;33m(\u001b[0m\u001b[1;34m\"1st\"\u001b[0m\u001b[1;33m)\u001b[0m\u001b[1;33m)\u001b[0m\u001b[1;33m\u001b[0m\u001b[0m\n\u001b[0m\u001b[0;32m      3\u001b[0m     \u001b[0mb\u001b[0m \u001b[1;33m=\u001b[0m \u001b[0mint\u001b[0m\u001b[1;33m(\u001b[0m\u001b[0minput\u001b[0m\u001b[1;33m(\u001b[0m\u001b[1;34m\"2nd\"\u001b[0m\u001b[1;33m)\u001b[0m\u001b[1;33m)\u001b[0m\u001b[1;33m\u001b[0m\u001b[0m\n\u001b[0;32m      4\u001b[0m     \u001b[0mc\u001b[0m \u001b[1;33m=\u001b[0m  \u001b[0ma\u001b[0m\u001b[1;33m/\u001b[0m\u001b[0mb\u001b[0m\u001b[1;33m\u001b[0m\u001b[0m\n\u001b[0;32m      5\u001b[0m \u001b[1;32mexcept\u001b[0m \u001b[0mIOError\u001b[0m\u001b[1;33m:\u001b[0m\u001b[1;33m\u001b[0m\u001b[0m\n",
      "\u001b[1;31mValueError\u001b[0m: invalid literal for int() with base 10: 'asd'"
     ]
    }
   ],
   "source": [
    "try:\n",
    "    a =  int(input(\"1st\"))\n",
    "    b = int(input(\"2nd\"))\n",
    "    c =  a/b\n",
    "except IOError:\n",
    "    print(\"there is an errror my code\")\n",
    "except SyntaxError:\n",
    "    print(\"this is a blockl for valueerror \")"
   ]
  },
  {
   "cell_type": "code",
   "execution_count": 13,
   "metadata": {},
   "outputs": [
    {
     "name": "stdout",
     "output_type": "stream",
     "text": [
      "1stds\n",
      "this isvalue error \n"
     ]
    }
   ],
   "source": [
    "try:\n",
    "    a =  int(input(\"1st\"))\n",
    "    b = int(input(\"2nd\"))\n",
    "    c =  a/b\n",
    "except IOError:\n",
    "    print(\"there is an errror my code\")\n",
    "except SyntaxError:\n",
    "    print(\"this is asyntex error \")\n",
    "except ValueError:\n",
    "    print(\"this isvalue error \")\n",
    "    "
   ]
  },
  {
   "cell_type": "code",
   "execution_count": 15,
   "metadata": {},
   "outputs": [
    {
     "name": "stdout",
     "output_type": "stream",
     "text": [
      "1stwd\n",
      "this is supar class of each and every exception, it will  not chcrk any other below exception\n"
     ]
    }
   ],
   "source": [
    "try:\n",
    "    a =  int(input(\"1st\"))\n",
    "    b = int(input(\"2nd\"))\n",
    "    c =  a/b\n",
    "    \n",
    "except Exception:\n",
    "    print(\"this is supar class of each and every exception, it will  not chceck any other below exception\")\n",
    "except IOError:\n",
    "    print(\"there is an errror my code\")\n",
    "except SyntaxError:\n",
    "    print(\"this is asyntex error \")\n",
    "except ValueError:\n",
    "    print(\"this isvalue error \")\n",
    "    "
   ]
  },
  {
   "cell_type": "code",
   "execution_count": 17,
   "metadata": {},
   "outputs": [
    {
     "name": "stdout",
     "output_type": "stream",
     "text": [
      "1stbi\n",
      "this isvalue error \n"
     ]
    }
   ],
   "source": [
    "# best way to use supar class \n",
    "\n",
    "try:\n",
    "    a =  int(input(\"1st\"))\n",
    "    b = int(input(\"2nd\"))\n",
    "    c =  a/b\n",
    "except IOError:\n",
    "    print(\"there is an errror my code\")\n",
    "except SyntaxError:\n",
    "    print(\"this is asyntex error \")\n",
    "except ValueError:\n",
    "    print(\"this isvalue error \")\n",
    "except Exception:\n",
    "    print(\"this is supar class of each and every exception, it will  not chceck any other below exception\")\n",
    "    "
   ]
  },
  {
   "cell_type": "code",
   "execution_count": 19,
   "metadata": {},
   "outputs": [
    {
     "name": "stdout",
     "output_type": "stream",
     "text": [
      "1stsdf\n",
      "there is problem with my code\n"
     ]
    }
   ],
   "source": [
    "try:\n",
    "    a =  int(input(\"1st\"))\n",
    "    b = int(input(\"2nd\"))\n",
    "    c =  a/b\n",
    "except (IOError, SyntaxError, ValueError):\n",
    "    print(\"there is problem with my code\")"
   ]
  },
  {
   "cell_type": "code",
   "execution_count": 1,
   "metadata": {},
   "outputs": [
    {
     "name": "stdout",
     "output_type": "stream",
     "text": [
      "1st1\n",
      "2nd2\n"
     ]
    }
   ],
   "source": [
    "try:\n",
    "    a =  int(input(\"1st\"))\n",
    "    b = int(input(\"2nd\"))\n",
    "    c =  a/b\n",
    "except (IOError, SyntaxError, ValueError, Exception ):\n",
    "    print(\"there is problem with my code\")"
   ]
  },
  {
   "cell_type": "code",
   "execution_count": 3,
   "metadata": {},
   "outputs": [
    {
     "name": "stdout",
     "output_type": "stream",
     "text": [
      "1st1\n",
      "2nd2\n",
      "this is my finally block\n"
     ]
    }
   ],
   "source": [
    "try:\n",
    "    a =  int(input(\"1st\"))\n",
    "    b = int(input(\"2nd\"))\n",
    "    c =  a/b\n",
    "finally:\n",
    "    print(\"this is my finally block\")"
   ]
  },
  {
   "cell_type": "markdown",
   "metadata": {},
   "source": [
    "# Exception handling in methode "
   ]
  },
  {
   "cell_type": "code",
   "execution_count": 7,
   "metadata": {},
   "outputs": [],
   "source": [
    "def askint():\n",
    "    try:\n",
    "        val = int(input(\"1st\"))\n",
    "    except:\n",
    "        print(\"look like did not enetr as integer \")\n",
    "    \n",
    "    finally:\n",
    "        print(\"Finally , i executed \")\n",
    "    print(val)"
   ]
  },
  {
   "cell_type": "code",
   "execution_count": 8,
   "metadata": {},
   "outputs": [
    {
     "name": "stdout",
     "output_type": "stream",
     "text": [
      "1st34\n",
      "Finally , i executed \n",
      "34\n"
     ]
    }
   ],
   "source": [
    "askint()"
   ]
  },
  {
   "cell_type": "code",
   "execution_count": 9,
   "metadata": {},
   "outputs": [
    {
     "name": "stdout",
     "output_type": "stream",
     "text": [
      "1stsdfsd\n",
      "look like did not enetr as integer \n",
      "Finally , i executed \n"
     ]
    },
    {
     "ename": "UnboundLocalError",
     "evalue": "local variable 'val' referenced before assignment",
     "output_type": "error",
     "traceback": [
      "\u001b[1;31m---------------------------------------------------------------------------\u001b[0m",
      "\u001b[1;31mUnboundLocalError\u001b[0m                         Traceback (most recent call last)",
      "\u001b[1;32m<ipython-input-9-cc291aa76c10>\u001b[0m in \u001b[0;36m<module>\u001b[1;34m\u001b[0m\n\u001b[1;32m----> 1\u001b[1;33m \u001b[0maskint\u001b[0m\u001b[1;33m(\u001b[0m\u001b[1;33m)\u001b[0m\u001b[1;33m\u001b[0m\u001b[0m\n\u001b[0m",
      "\u001b[1;32m<ipython-input-7-310728034bda>\u001b[0m in \u001b[0;36maskint\u001b[1;34m()\u001b[0m\n\u001b[0;32m      7\u001b[0m     \u001b[1;32mfinally\u001b[0m\u001b[1;33m:\u001b[0m\u001b[1;33m\u001b[0m\u001b[0m\n\u001b[0;32m      8\u001b[0m         \u001b[0mprint\u001b[0m\u001b[1;33m(\u001b[0m\u001b[1;34m\"Finally , i executed \"\u001b[0m\u001b[1;33m)\u001b[0m\u001b[1;33m\u001b[0m\u001b[0m\n\u001b[1;32m----> 9\u001b[1;33m     \u001b[0mprint\u001b[0m\u001b[1;33m(\u001b[0m\u001b[0mval\u001b[0m\u001b[1;33m)\u001b[0m\u001b[1;33m\u001b[0m\u001b[0m\n\u001b[0m",
      "\u001b[1;31mUnboundLocalError\u001b[0m: local variable 'val' referenced before assignment"
     ]
    }
   ],
   "source": [
    "askint()"
   ]
  },
  {
   "cell_type": "code",
   "execution_count": 10,
   "metadata": {},
   "outputs": [],
   "source": [
    "def askint():\n",
    "    try:\n",
    "        val = int(input(\"1st\"))\n",
    "    except:\n",
    "        print(\"look like did not enetr as integer \")\n",
    "    \n",
    "    finally:\n",
    "        print(\"Finally , i executed \")\n",
    "    try :\n",
    "        print(val)\n",
    "    except:\n",
    "        print(\"this is an issue with val variable \")"
   ]
  },
  {
   "cell_type": "code",
   "execution_count": 11,
   "metadata": {},
   "outputs": [
    {
     "name": "stdout",
     "output_type": "stream",
     "text": [
      "1stsda\n",
      "look like did not enetr as integer \n",
      "Finally , i executed \n",
      "this is an issue with val variable \n"
     ]
    }
   ],
   "source": [
    "askint()"
   ]
  },
  {
   "cell_type": "code",
   "execution_count": 12,
   "metadata": {},
   "outputs": [],
   "source": [
    "def skint():\n",
    "    try:\n",
    "        val = int(input(\"1st value \"))\n",
    "    except:\n",
    "        print(\"look like you did not eneter an integer \")\n",
    "        try :\n",
    "            val = int(input(\"1st value enet once again  \"))\n",
    "        except:\n",
    "            print(\"handel it \")\n",
    "    finally:\n",
    "        print(\"finally ,, executed\")\n",
    "            "
   ]
  },
  {
   "cell_type": "code",
   "execution_count": 14,
   "metadata": {},
   "outputs": [
    {
     "name": "stdout",
     "output_type": "stream",
     "text": [
      "1st value asd\n",
      "look like you did not eneter an integer \n",
      "1st value enet once again  1\n",
      "finally ,, executed\n"
     ]
    }
   ],
   "source": [
    "skint()"
   ]
  },
  {
   "cell_type": "code",
   "execution_count": null,
   "metadata": {},
   "outputs": [],
   "source": []
  },
  {
   "cell_type": "code",
   "execution_count": 1,
   "metadata": {},
   "outputs": [],
   "source": [
    "def skint():\n",
    "    while True:\n",
    "        try:\n",
    "            val = int(input(\"1st value \"))\n",
    "        except:\n",
    "            print(\"look like you did not eneter an integer \")\n",
    "            break\n",
    "        else:\n",
    "            print(\"yep thats as integer\")\n",
    "        finally:\n",
    "            print(\"finally , I Executed \")\n",
    "            print(val)"
   ]
  },
  {
   "cell_type": "code",
   "execution_count": 2,
   "metadata": {},
   "outputs": [
    {
     "name": "stdout",
     "output_type": "stream",
     "text": [
      "1st value 12\n",
      "yep thats as integer\n",
      "finally , I Executed \n",
      "12\n",
      "1st value asdas\n",
      "look like you did not eneter an integer \n",
      "finally , I Executed \n",
      "12\n"
     ]
    }
   ],
   "source": [
    "skint()"
   ]
  },
  {
   "cell_type": "code",
   "execution_count": 1,
   "metadata": {},
   "outputs": [],
   "source": [
    "def skint():\n",
    "    while True:\n",
    "        try:\n",
    "            val = int(input(\"1st value \"))\n",
    "        except:\n",
    "            print(\"look like you did not eneter an integer \")\n",
    "            continue\n",
    "        else:\n",
    "            print(\"yep thats as integer\")\n",
    "            break\n",
    "        finally:\n",
    "            print(\"finally , I Executed \")\n"
   ]
  },
  {
   "cell_type": "code",
   "execution_count": 2,
   "metadata": {},
   "outputs": [
    {
     "name": "stdout",
     "output_type": "stream",
     "text": [
      "1st value asd\n",
      "look like you did not eneter an integer \n",
      "finally , I Executed \n",
      "1st value asd\n",
      "look like you did not eneter an integer \n",
      "finally , I Executed \n",
      "1st value 1\n",
      "yep thats as integer\n",
      "finally , I Executed \n"
     ]
    }
   ],
   "source": [
    "skint()"
   ]
  },
  {
   "cell_type": "code",
   "execution_count": 3,
   "metadata": {},
   "outputs": [],
   "source": [
    "#you have to aplly break ....\n",
    "def skint():\n",
    "    while True:\n",
    "        try:\n",
    "            val = int(input(\"1st value \"))\n",
    "        except:\n",
    "            print(\"look like you did not eneter an integer \")\n",
    "            continue\n",
    "        else:\n",
    "            print(\"yep thats as integer\")\n",
    "           \n",
    "        finally:\n",
    "            print(\"finally , I Executed \")\n"
   ]
  },
  {
   "cell_type": "code",
   "execution_count": null,
   "metadata": {},
   "outputs": [
    {
     "name": "stdout",
     "output_type": "stream",
     "text": [
      "1st value 1\n",
      "yep thats as integer\n",
      "finally , I Executed \n",
      "1st value 1\n",
      "yep thats as integer\n",
      "finally , I Executed \n",
      "1st value 1\n",
      "yep thats as integer\n",
      "finally , I Executed \n",
      "1st value 1\n",
      "yep thats as integer\n",
      "finally , I Executed \n",
      "1st value 3\n",
      "yep thats as integer\n",
      "finally , I Executed \n",
      "1st value csd\n",
      "look like you did not eneter an integer \n",
      "finally , I Executed \n"
     ]
    }
   ],
   "source": [
    "skint()"
   ]
  },
  {
   "cell_type": "code",
   "execution_count": 8,
   "metadata": {},
   "outputs": [
    {
     "name": "stdout",
     "output_type": "stream",
     "text": [
      "its a exception thst name is :  not writable\n"
     ]
    }
   ],
   "source": [
    "try:\n",
    "    f = open('test1.txt','r')\n",
    "    f.write('hello this is write')\n",
    "except Exception as e:\n",
    "    print(\"its a exception thst name is : \", e)"
   ]
  },
  {
   "cell_type": "markdown",
   "metadata": {},
   "source": [
    "# How to vcreate our own exception or custome exception "
   ]
  },
  {
   "cell_type": "code",
   "execution_count": 9,
   "metadata": {},
   "outputs": [
    {
     "data": {
      "text/plain": [
       "6.0"
      ]
     },
     "execution_count": 9,
     "metadata": {},
     "output_type": "execute_result"
    }
   ],
   "source": [
    "a = 6\n",
    "b = 1\n",
    "c = a/b\n",
    "c\n",
    "# i want b= 1 , that should be a exception "
   ]
  },
  {
   "cell_type": "code",
   "execution_count": 11,
   "metadata": {},
   "outputs": [],
   "source": [
    "class division_by_1(Exception):  #inheritence performance \n",
    "    pass\n",
    "    "
   ]
  },
  {
   "cell_type": "code",
   "execution_count": 17,
   "metadata": {},
   "outputs": [
    {
     "name": "stdout",
     "output_type": "stream",
     "text": [
      "1st number 12\n",
      "2nd number 1\n",
      "12.0\n",
      "the input value of b was 1 \n"
     ]
    }
   ],
   "source": [
    "try :\n",
    "    a = int(input(\"1st number \"))\n",
    "    b = int(input(\"2nd number \"))\n",
    "    c=  a/b\n",
    "    print(c)\n",
    "    if b == 1 :\n",
    "        raise division_by_1\n",
    "except division_by_1:\n",
    "    print(\"the input value of b was 1 \")\n",
    "\n",
    "    "
   ]
  },
  {
   "cell_type": "code",
   "execution_count": 18,
   "metadata": {},
   "outputs": [
    {
     "name": "stdout",
     "output_type": "stream",
     "text": [
      "1st number 1\n",
      "2nd number 1\n",
      "1.0\n",
      "the input value of b was 1 \n"
     ]
    }
   ],
   "source": [
    "class xyz(Exception):  #inheritence performance \n",
    "    pass\n",
    "try :\n",
    "    a = int(input(\"1st number \"))\n",
    "    b = int(input(\"2nd number \"))\n",
    "    c=  a/b\n",
    "    print(c)\n",
    "    if b == 1 :\n",
    "        raise xyz\n",
    "except xyz:\n",
    "    print(\"the input value of b was 1 \")\n",
    "\n"
   ]
  },
  {
   "cell_type": "code",
   "execution_count": 4,
   "metadata": {},
   "outputs": [],
   "source": [
    "class division_by_1(Exception):  #inheritence performance \n",
    "    pass\n",
    "\n",
    "\n",
    "class InputAsString(Exception):\n",
    "    pass"
   ]
  },
  {
   "cell_type": "code",
   "execution_count": 8,
   "metadata": {},
   "outputs": [
    {
     "name": "stdout",
     "output_type": "stream",
     "text": [
      "1st number 12\n",
      "2nd number 1\n",
      "the input value of b was 1 \n"
     ]
    }
   ],
   "source": [
    "try :\n",
    "    a = (input(\"1st number \"))\n",
    "    b = int(input(\"2nd number \"))\n",
    "\n",
    "    if b == 1 :\n",
    "        raise division_by_1\n",
    "    elif type(a) == str:\n",
    "        raise InputAsString\n",
    "except division_by_1:\n",
    "    print(\"the input value of b was 1 \")\n",
    "except InputAsString:\n",
    "    print(\"the value of a as a string \")\n"
   ]
  },
  {
   "cell_type": "code",
   "execution_count": 12,
   "metadata": {},
   "outputs": [],
   "source": [
    "# i am failled here \n",
    "\n",
    "class OwnException(Exception):\n",
    "    pass\n"
   ]
  },
  {
   "cell_type": "code",
   "execution_count": 16,
   "metadata": {},
   "outputs": [
    {
     "name": "stdout",
     "output_type": "stream",
     "text": [
      "plaese enetr list values 12344\n",
      "pls insert some string valuesdf\n"
     ]
    }
   ],
   "source": [
    "try:\n",
    "    l = list(input(\"plaese enetr list values \"))\n",
    "    str = input(\"pls insert some string value\")\n",
    "    if type(l) == int and type(str) == int:\n",
    "        pass\n",
    "    elif type(str)==str:\n",
    "        raise OwnException\n",
    "except OwnException:\n",
    "    print(\"String and list have not perform to concatination\")\n",
    "    \n",
    "        \n",
    "        "
   ]
  },
  {
   "cell_type": "markdown",
   "metadata": {},
   "source": [
    "# DataBase "
   ]
  },
  {
   "cell_type": "code",
   "execution_count": null,
   "metadata": {},
   "outputs": [],
   "source": []
  }
 ],
 "metadata": {
  "kernelspec": {
   "display_name": "Python 3",
   "language": "python",
   "name": "python3"
  },
  "language_info": {
   "codemirror_mode": {
    "name": "ipython",
    "version": 3
   },
   "file_extension": ".py",
   "mimetype": "text/x-python",
   "name": "python",
   "nbconvert_exporter": "python",
   "pygments_lexer": "ipython3",
   "version": "3.6.6"
  }
 },
 "nbformat": 4,
 "nbformat_minor": 4
}
